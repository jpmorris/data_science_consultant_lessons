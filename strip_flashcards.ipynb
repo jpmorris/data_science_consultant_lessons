{
 "cells": [
  {
   "cell_type": "markdown",
   "id": "6f0bbf37",
   "metadata": {},
   "source": [
    "for each folder\n",
    "for each file\n",
    "search for "
   ]
  }
 ],
 "metadata": {
  "jupytext": {
   "cell_metadata_filter": "-all",
   "main_language": "python",
   "notebook_metadata_filter": "-all"
  }
 },
 "nbformat": 4,
 "nbformat_minor": 5
}
