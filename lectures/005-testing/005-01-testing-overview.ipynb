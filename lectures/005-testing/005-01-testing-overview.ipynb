{
 "cells": [
  {
   "cell_type": "markdown",
   "id": "443aefe2",
   "metadata": {
    "lines_to_next_cell": 2
   },
   "source": [
    "# Testing is good for:\n",
    "- Make you a better programmer:\n",
    "  - Defining pre and post conditions (all the if statements which restrict the input)\n",
    "    - Can come formally from requirements\n",
    "- Watch for regressions\n",
    "-   - Important for refactoring"
   ]
  },
  {
   "cell_type": "markdown",
   "id": "a3e668e0",
   "metadata": {
    "lines_to_next_cell": 2
   },
   "source": [
    "# Unit Testing SQL?\n",
    "- Not common because SQL is a declarative language\n",
    "  - Declarative language: you tell the computer what you want, not how to do it\n",
    "  - Imperative language: you tell the computer how to do it\n",
    "    - Remember: as in Imparative sentence: \"Go to the store and buy some milk\"\n",
    "\n",
    "![Graph Examples](images/programming_paradigms.png)"
   ]
  },
  {
   "cell_type": "markdown",
   "id": "8997c2a0",
   "metadata": {},
   "source": [
    "# Testing Pyramid\n",
    "- More tests at the bottom, fewer tests at the top\n",
    "- Bottom runs faster; Top runs slower\n",
    "\n",
    "![Graph Examples](images/tests-pyramid.png)"
   ]
  },
  {
   "cell_type": "markdown",
   "id": "c28c4eb6",
   "metadata": {},
   "source": [
    "# Types of Testing\n",
    "- **Unit Testing**: testing individual functions or methods\n",
    "- **Component Testing**: testing an entire component\n",
    "- **Integration Testing**: testing the interaction between components\n",
    "- **System Testing**: testing the entire system\n",
    "- **Acceptance Testing**: testing the system against the requirements\n",
    "- **Regression Testing**: testing the system after changes to ensure that no new bugs have been introduced\n",
    "- **Load Testing**: testing the system under heavy load\n",
    "- **Stress Testing**: testing the system under extreme conditions\n",
    "- **Performance Testing**: testing the system's performance\n",
    "- **Security Testing**: testing the system's security\n",
    "- **Sanity Testing**: testing the system to ensure that it works after code changes\n",
    "- **Smoke Testing**: testing the system to ensure that it works (critical functionalities)"
   ]
  },
  {
   "cell_type": "markdown",
   "id": "db9c5081",
   "metadata": {
    "lines_to_next_cell": 2
   },
   "source": [
    "# Testing methodolgies\n",
    "- **Specification-based Testing**: testing the system against the specification (oten UML or some requiements as testing input)\n",
    "  - Found more in formal software development\n",
    "- **TDD - Test-driven development**: writing tests before writing the code\n",
    "  - Contriversal method. Some say it's hard to write tests first without knowing some amount of solution\n",
    "    - This group will write code first, then quicly write tests\n",
    "- ** Behavior-driven development (BDD)**: a variation of TDD that focuses on the behavior of the system\n",
    "  - It's possible to write agile user stories that feed directly into testing framework\n",
    "    - See Cucumber.\n",
    "    - Also more for traditional software development"
   ]
  },
  {
   "cell_type": "markdown",
   "id": "5beb51a1",
   "metadata": {},
   "source": [
    "# Code Coverage\n",
    "- **Code Coverage**: the percentage of code that is executed by a test suite\n",
    "  - Code Coverage should not be desired for it's own sake\n",
    "  - Dumb tests can have 100% coverage, but dumb tests are almost worse than no tests."
   ]
  },
  {
   "cell_type": "markdown",
   "id": "0df8aa2a",
   "metadata": {},
   "source": [
    "# Mocks, Stubs, and Fakes\n",
    "- **Mock**: an object that simulates the behavior of a real object\n",
    "  - E.g. a mock database, web service, file system without testing against the real one\n",
    "- **Stub**: a simple object that returns a hard-coded value\n",
    "- **Fake**: a simple object that returns a hard-coded value and has some logic\n",
    "- Pro Tip: Create an interface that will avoid mocking unit tests"
   ]
  },
  {
   "cell_type": "markdown",
   "id": "476e3745",
   "metadata": {
    "lines_to_next_cell": 2
   },
   "source": [
    "# Big point: know why you're doing your testing. Each case is different:\n",
    "- Stable API?\n",
    "- Complex Algorithm?\n",
    "- Data Science?\n",
    "- Refactoring?"
   ]
  },
  {
   "cell_type": "markdown",
   "id": "7f5d0603",
   "metadata": {},
   "source": [
    "- **Black Box Testing**: testing the system without knowledge of the internal workings\n",
    "- **White Box Testing**: testing the system with knowledge of the internal workings"
   ]
  }
 ],
 "metadata": {
  "jupytext": {
   "cell_metadata_filter": "-all",
   "main_language": "python",
   "notebook_metadata_filter": "-all"
  }
 },
 "nbformat": 4,
 "nbformat_minor": 5
}
