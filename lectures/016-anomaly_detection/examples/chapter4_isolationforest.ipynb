{
 "cells": [
  {
   "cell_type": "code",
   "execution_count": 1,
   "id": "e03ca80f-7132-49b9-a96a-92ae6fbae2d0",
   "metadata": {},
   "outputs": [],
   "source": [
    "import numpy as np\n",
    "import pandas as pd\n",
    "import matplotlib.pyplot as plt\n",
    "from sklearn.ensemble import IsolationForest\n",
    "from sklearn.linear_model import LogisticRegression\n",
    "from sklearn.model_selection import train_test_split\n",
    "from sklearn.preprocessing import LabelEncoder\n",
    "from sklearn.metrics import precision_score, recall_score, f1_score, confusion_matrix, ConfusionMatrixDisplay, roc_auc_score\n",
    "\n",
    "%matplotlib inline"
   ]
  },
  {
   "cell_type": "markdown",
   "id": "925c35ea-d845-4f0d-9675-65d6af33c9e1",
   "metadata": {},
   "source": [
    "### Data Preparation\n",
    "\n",
    "First, we must load the data and then transform it into a usable condition to pass into the isolation forest algorithm.\n",
    "\n",
    "We define a list of columns that correspond with the data. Unlike some other data files, the data does not contain columns so we must define them ourselves to tell pandas what the column labels should be. Otherwise, they'll be numbered by numerical index, making it harder to interpret the data."
   ]
  },
  {
   "cell_type": "code",
   "execution_count": 3,
   "id": "551fad3f-d677-4292-86ec-ff8a90a61926",
   "metadata": {},
   "outputs": [],
   "source": [
    "columns = [\"duration\", \"protocol_type\", \"service\", \"flag\", \"src_bytes\", \"dst_bytes\", \"land\", \"wrong_fragment\", \"urgent\",\n",
    "        \"hot\", \"num_failed_logins\", \"logged_in\", \"num_compromised\", \"root_shell\", \"su_attempted\", \"num_root\", \n",
    "        \"num_file_creations\", \"num_shells\", \"num_access_files\", \"num_outbound_cmds\", \"is_host_login\",\n",
    "        \"is_guest_login\", \"count\", \"srv_count\", \"serror_rate\", \"srv_serror_rate\", \"rerror_rate\", \"srv_rerror_rate\",\n",
    "        \"same_srv_rate\", \"diff_srv_rate\", \"srv_diff_host_rate\", \"dst_host_count\", \"dst_host_srv_count\", \n",
    "        \"dst_host_same_srv_rate\", \"dst_host_diff_srv_rate\", \"dst_host_same_src_port_rate\", \"dst_host_srv_diff_host_rate\",\n",
    "        \"dst_host_serror_rate\", \"dst_host_srv_serror_rate\", \"dst_host_rerror_rate\", \"dst_host_srv_rerror_rate\", \"label\"]\n",
    "\n",
    "df = pd.read_csv(\"data/kddcup.data.corrected\", sep=\",\", names=columns, index_col=None)\n"
   ]
  },
  {
   "cell_type": "markdown",
   "id": "e4da7a63-1837-4991-b017-ed7ba111597e",
   "metadata": {},
   "source": [
    "This is a very large dataset. Let's only concern ourselves with http attacks"
   ]
  },
  {
   "cell_type": "code",
   "execution_count": 4,
   "id": "58a08525-ccae-4f8f-9721-b476f3c76d67",
   "metadata": {},
   "outputs": [
    {
     "data": {
      "text/plain": [
       "(4898431, 42)"
      ]
     },
     "execution_count": 4,
     "metadata": {},
     "output_type": "execute_result"
    }
   ],
   "source": [
    "df.shape"
   ]
  },
  {
   "cell_type": "code",
   "execution_count": 5,
   "id": "a37f59be-4d9c-4b57-86dd-07d14fa7545b",
   "metadata": {},
   "outputs": [],
   "source": [
    "# Filter to only 'http' attacks\n",
    "df = df[df[\"service\"] == \"http\"]\n",
    "df = df.drop(\"service\", axis=1)\n"
   ]
  },
  {
   "cell_type": "code",
   "execution_count": 6,
   "id": "21bc10b4-cd80-47c5-9ed3-ee05710211e0",
   "metadata": {},
   "outputs": [
    {
     "data": {
      "text/plain": [
       "(623091, 41)"
      ]
     },
     "execution_count": 6,
     "metadata": {},
     "output_type": "execute_result"
    }
   ],
   "source": [
    "df.shape"
   ]
  },
  {
   "cell_type": "markdown",
   "id": "c282ce3c-a399-472b-9c2d-b3b6c2ba79f1",
   "metadata": {},
   "source": [
    "There are many types of anomalous attacks. To make things simple, we will only detect whether a data point is normal or if it is an anomaly"
   ]
  },
  {
   "cell_type": "code",
   "execution_count": 7,
   "id": "714d697d-7f5e-4c40-a075-4c18b332e917",
   "metadata": {},
   "outputs": [
    {
     "data": {
      "text/plain": [
       "label\n",
       "normal.       619046\n",
       "back.           2203\n",
       "neptune.        1801\n",
       "portsweep.        16\n",
       "ipsweep.          13\n",
       "satan.             7\n",
       "phf.               4\n",
       "nmap.              1\n",
       "Name: count, dtype: int64"
      ]
     },
     "execution_count": 7,
     "metadata": {},
     "output_type": "execute_result"
    }
   ],
   "source": [
    "df[\"label\"].value_counts()"
   ]
  },
  {
   "cell_type": "code",
   "execution_count": 8,
   "id": "3f9de905-da1d-4a47-beb5-85036e879e7a",
   "metadata": {},
   "outputs": [
    {
     "data": {
      "text/plain": [
       "label\n",
       "0    619046\n",
       "1      4045\n",
       "Name: count, dtype: int64"
      ]
     },
     "execution_count": 8,
     "metadata": {},
     "output_type": "execute_result"
    }
   ],
   "source": [
    "# Label of 'normal.' becomes 0, and anything else becomes 1 and is treated as an anomaly.\n",
    "df['label'] = df['label'].apply(lambda x: 0 if x=='normal.' else 1)\n",
    "df['label'].value_counts()"
   ]
  },
  {
   "cell_type": "markdown",
   "id": "50fc76bd-1fc5-4956-a9ed-afce4683dad6",
   "metadata": {},
   "source": [
    "The next step we should perform is to encode the categorical columns. However, there are many columns to search over, so let's automate this. The following cell will create a dictionary of column names to their corresponding data type. From that data type dictionary, we can iterate and find only the columns that are strings, which carry a datatype of \"object\" in pandas."
   ]
  },
  {
   "cell_type": "code",
   "execution_count": 10,
   "id": "cbe49c37-adad-477e-a367-db936e9cbb57",
   "metadata": {},
   "outputs": [],
   "source": [
    "datatypes = dict(zip(df.dtypes.index, df.dtypes))"
   ]
  },
  {
   "cell_type": "code",
   "execution_count": 11,
   "id": "dae2a8cc-40a3-44a7-b2e9-25ac1520ba22",
   "metadata": {},
   "outputs": [],
   "source": [
    "encoder_map = {}\n",
    "for col, datatype in datatypes.items():\n",
    "    if datatype == 'object':\n",
    "        encoder = LabelEncoder()\n",
    "        df[col] = encoder.fit_transform(df[col])\n",
    "        encoder_map[col] = encoder \n"
   ]
  },
  {
   "cell_type": "markdown",
   "id": "7bef30d5-2110-49d6-8cd5-22b84bfcf41e",
   "metadata": {},
   "source": [
    "Let's now check the correlation matrix with respect to the label column and filter out all the columns that are not at least weakly correlated. Remember that linear correlation can be either positive or negative, so we must filter the columns by the magnitude of their correlation."
   ]
  },
  {
   "cell_type": "code",
   "execution_count": 12,
   "id": "64be296e-548a-42c9-9f6c-590246ca506f",
   "metadata": {},
   "outputs": [],
   "source": [
    "# Check the variables with highest correlation with 'label'\n",
    "df2 = df.copy()\n",
    "label_corr = df2.corr()['label']"
   ]
  },
  {
   "cell_type": "code",
   "execution_count": 13,
   "id": "5447f5ed-fdea-4ff8-8270-b45600aa94a4",
   "metadata": {},
   "outputs": [
    {
     "data": {
      "text/plain": [
       "['src_bytes',\n",
       " 'hot',\n",
       " 'num_compromised',\n",
       " 'count',\n",
       " 'serror_rate',\n",
       " 'srv_serror_rate',\n",
       " 'same_srv_rate',\n",
       " 'diff_srv_rate',\n",
       " 'dst_host_srv_count',\n",
       " 'dst_host_same_srv_rate',\n",
       " 'dst_host_diff_srv_rate',\n",
       " 'dst_host_serror_rate',\n",
       " 'dst_host_srv_serror_rate']"
      ]
     },
     "execution_count": 13,
     "metadata": {},
     "output_type": "execute_result"
    }
   ],
   "source": [
    "# Filter out anything that has null entry or is not weakly correlated\n",
    "train_cols = label_corr[(~label_corr.isna()) & (np.abs(label_corr) > 0.2)]\n",
    "train_cols = list(train_cols[:-1].index)\n",
    "train_cols"
   ]
  },
  {
   "cell_type": "code",
   "execution_count": 15,
   "id": "70695ffa-4aac-4071-8255-73c5dc8da324",
   "metadata": {},
   "outputs": [
    {
     "data": {
      "text/plain": [
       "src_bytes                   0.732327\n",
       "hot                         0.601021\n",
       "num_compromised             0.611172\n",
       "count                       0.353376\n",
       "serror_rate                 0.556694\n",
       "srv_serror_rate             0.554336\n",
       "same_srv_rate              -0.620784\n",
       "diff_srv_rate               0.280376\n",
       "dst_host_srv_count         -0.230058\n",
       "dst_host_same_srv_rate     -0.609081\n",
       "dst_host_diff_srv_rate      0.258717\n",
       "dst_host_serror_rate        0.607972\n",
       "dst_host_srv_serror_rate    0.628432\n",
       "Name: label, dtype: float64"
      ]
     },
     "execution_count": 15,
     "metadata": {},
     "output_type": "execute_result"
    }
   ],
   "source": [
    "# Checking the correlations\n",
    "label_corr[train_cols]"
   ]
  },
  {
   "cell_type": "markdown",
   "id": "1382930c-bd74-4891-85ea-d335345c8654",
   "metadata": {},
   "source": [
    "Now that we have filtered out only the columns with a stronger correlation with label, let's split our data into train-test-val splits."
   ]
  },
  {
   "cell_type": "code",
   "execution_count": 16,
   "id": "a5c344b0-76bc-4c93-914c-adee6ce17ec1",
   "metadata": {},
   "outputs": [],
   "source": [
    "labels = df2['label']\n",
    "# Conduct a train-test split    \n",
    "x_train, x_test, y_train, y_test = train_test_split(df2[train_cols].values, labels.values, test_size = 0.15, random_state = 42)\n"
   ]
  },
  {
   "cell_type": "code",
   "execution_count": 17,
   "id": "425828ed-9c31-4694-8dc6-581a5dc4e13d",
   "metadata": {},
   "outputs": [],
   "source": [
    "# Additional split of training dataset to create validation split\n",
    "x_train, x_val, y_train, y_val = train_test_split(x_train, y_train, test_size=0.2, random_state=42)"
   ]
  },
  {
   "cell_type": "code",
   "execution_count": 18,
   "id": "130dc8c9-7c6a-4b9e-9139-8a93b91d9a00",
   "metadata": {},
   "outputs": [
    {
     "name": "stdout",
     "output_type": "stream",
     "text": [
      "Shapes\n",
      "x_train:(423701, 13)\n",
      "y_train:(423701,)\n",
      "\n",
      "x_val:(105926, 13)\n",
      "y_val:(105926,)\n",
      "\n",
      "x_test:(93464, 13)\n",
      "y_test:(93464,)\n"
     ]
    }
   ],
   "source": [
    "print(\"Shapes\")\n",
    "print(f\"x_train:{x_train.shape}\\ny_train:{y_train.shape}\")\n",
    "print(f\"\\nx_val:{x_val.shape}\\ny_val:{y_val.shape}\")\n",
    "print(f\"\\nx_test:{x_test.shape}\\ny_test:{y_test.shape}\")"
   ]
  },
  {
   "cell_type": "code",
   "execution_count": 19,
   "id": "82db0bf1-0145-4d33-9a52-7e8c5fb7842b",
   "metadata": {},
   "outputs": [],
   "source": [
    "# Let's try out isolation forest with stock parameters. It may take a bit of time to train.\n",
    "isolation_forest = IsolationForest(random_state=42)"
   ]
  },
  {
   "cell_type": "code",
   "execution_count": 20,
   "id": "57023c14-1324-4a49-9216-355758517e0a",
   "metadata": {},
   "outputs": [],
   "source": [
    "isolation_forest.fit(x_train)\n",
    "anomaly_scores = isolation_forest.decision_function(x_train)"
   ]
  },
  {
   "cell_type": "code",
   "execution_count": 21,
   "id": "ea615152-56a1-4a8d-a5c1-0616d2396796",
   "metadata": {},
   "outputs": [
    {
     "data": {
      "image/png": "[encoded data removed]",
      "text/plain": [
       "<Figure size 1000x500 with 1 Axes>"
      ]
     },
     "metadata": {},
     "output_type": "display_data"
    }
   ],
   "source": [
    "plt.figure(figsize=(10, 5))\n",
    "plt.hist(anomaly_scores, bins=100)\n",
    "plt.xlabel('Average Path Lengths')\n",
    "plt.ylabel('Number of Data Points')\n",
    "plt.show()"
   ]
  },
  {
   "cell_type": "markdown",
   "id": "150abe3b-a9a7-4b67-8f4c-e740720a3ea7",
   "metadata": {},
   "source": [
    "The anomaly scores are a function of the average path lengths in the forest assigned to each data point. The more negative the path length, the easier the sample was to isolate. Thus, if we look at our histogram, we can clearly see some isolated clump of outliers. Though it may be tempting to assign the threshold to be -0.3 and be done with it, that won't net you proper results.\n",
    "\n",
    "Run the following cell and try other thresholds, you will find that the F1-Measure (the proper metric to optimize as it would ensure we adequately capture the population of anomalies and that we make accurate predictions) does not seem to be able to reach a proper score.\n",
    "\n",
    "A score that is at least 0.9 is desirable for an F1-Measure. "
   ]
  },
  {
   "cell_type": "code",
   "execution_count": null,
   "id": "91eecadd-44ea-4bd8-8d0f-e2ec83f5ca31",
   "metadata": {},
   "outputs": [
    {
     "name": "stdout",
     "output_type": "stream",
     "text": [
      "Precision: 0.6711345141215893\n",
      "Recall: 0.5025089605734767\n",
      "F1-Measure: 0.5747079319532691\n"
     ]
    }
   ],
   "source": [
    "threshold = -0.3\n",
    "anomalies = anomaly_scores < threshold\n",
    "\n",
    "precision = precision_score(y_train, anomalies)\n",
    "recall = recall_score(y_train, anomalies)\n",
    "f1 = f1_score(y_train, anomalies)\n",
    "\n",
    "print(f\"Precision: {precision}\")\n",
    "print(f\"Recall: {recall}\")\n",
    "print(f\"F1-Measure: {f1}\")"
   ]
  },
  {
   "cell_type": "markdown",
   "id": "3443babb-ddf4-4264-b447-9f9edbb3bbf3",
   "metadata": {},
   "source": [
    "So what now, is that it for the isolation forest? No, we haven't even begun the hyperparameter tuning validation process. \n",
    "\n",
    "The isolation forest depends heavily on its hyperparameter settings to guide how it decides to build the trees and partition the data. You must tune it for the task. With that being said, let's look at the parameters we want to tune:\n",
    "\n",
    "- **max_samples**: how many samples to use to train each tree in the forest\n",
    "- **max_features**: how many features per data point to use to train each tree in the forest\n",
    "- **n_estimators**: how many trees should comprise the forest\n",
    "\n",
    "There is also a feature, **contamination**, which tells the isolation forest what proportion of the data is contaminated by anomalies. But for this, we can calculate the proportion from our training set and pass it in directly."
   ]
  },
  {
   "cell_type": "markdown",
   "id": "0b77acb0-fce9-4ed3-a129-6440209dd888",
   "metadata": {},
   "source": [
    "### Hyperparameter Tuning with Hold-out Validation\n",
    "\n",
    "Let's start the validation process. First, we want to tune max_samples. We do not know what range to look for, so let's go by powers of two starting from 512 and ending at 2048.\n",
    "\n",
    "The following script is the validation framework we will be using. We will be using hold-out validation and employing our validation split that we created earlier. To be thoroughly experimentally sound, k-fold cross validation is better to use, but we just want to get a quick idea of what kind of parameters to be setting. Additionally, the validation set is a bit large  with  around ~100k records, so it should be sufficiently large to operate on directly. K-Fold is more useful when you don't have as much data to work with. \n",
    "\n",
    "Instead of manually setting the threshold, we are using **logistic regression** to help us predict whether a datapoint is an anomaly or not. This is a more automated method than manually experimenting with the threshold and trying out different values. However, this does insert another link in the chain that may need to be hyperparameter tuned, but we will leave it stock and as an exercise to you to see how much better you can get the performance overall."
   ]
  },
  {
   "cell_type": "code",
   "execution_count": 28,
   "id": "d315fa55-b93c-498a-b72f-e1826c875c68",
   "metadata": {},
   "outputs": [
    {
     "data": {
      "text/plain": [
       "0.006584832228387471"
      ]
     },
     "execution_count": 28,
     "metadata": {},
     "output_type": "execute_result"
    }
   ],
   "source": [
    "# estimate proportion of anomalies. It's about 0.0065, 0.0066\n",
    "(y_train==1).sum() / len(y_train)"
   ]
  },
  {
   "cell_type": "code",
   "execution_count": 29,
   "id": "46f98c79-e37a-4fd7-8ab9-b8a66fc94994",
   "metadata": {},
   "outputs": [],
   "source": [
    "# Given an isolation_forest instance, x, and y data, train and evaluate and return results\n",
    "def experiment(isolation_forest, x, y):\n",
    "    isolation_forest.fit(x)\n",
    "    \n",
    "    anomaly_scores = isolation_forest.decision_function(x)\n",
    "    \n",
    "    # Using a stock Logistic Regression model to predict labels\n",
    "    lr = LogisticRegression()\n",
    "    lr.fit(anomaly_scores.reshape(-1, 1), y)\n",
    "    \n",
    "    preds = lr.predict(anomaly_scores.reshape(-1,1))\n",
    "    \n",
    "    pre = precision_score(y, preds)\n",
    "    rec = recall_score(y, preds)\n",
    "    f1 = f1_score(y, preds)\n",
    "    \n",
    "    return {'precision': pre, 'recall': rec, 'f1': f1}\n",
    "    "
   ]
  },
  {
   "cell_type": "markdown",
   "id": "f4d0f317-fe7a-4f98-9796-c411b2b96418",
   "metadata": {},
   "source": [
    "#### Tuning max_samples"
   ]
  },
  {
   "cell_type": "code",
   "execution_count": 30,
   "id": "2401c893-bd47-4eeb-88f3-d8844f07cc1c",
   "metadata": {},
   "outputs": [],
   "source": [
    "# Perform experimental search for max_samples\n",
    "validation_results = {}\n",
    "max_samples = [2**f for f in [8, 9, 10, 11, 12]]\n",
    "for max_sample in max_samples:\n",
    "    \n",
    "    # We are fixing the n_estimators to 50 to be quicker. n_jobs = -1 lets us train on all cores\n",
    "    isolation_forest = IsolationForest(n_estimators=50, \n",
    "                                       max_samples = max_sample, \n",
    "                                       n_jobs=-1, \n",
    "                                       contamination = 0.0066, \n",
    "                                       random_state=42)\n",
    "    \n",
    "    res = experiment(isolation_forest, x_val, y_val)\n",
    "    validation_results[max_sample] = res\n",
    "    \n",
    "                       "
   ]
  },
  {
   "cell_type": "code",
   "execution_count": 31,
   "id": "8225aa96-5885-4d9b-90ff-ac04e26bcd0a",
   "metadata": {},
   "outputs": [
    {
     "data": {
      "text/plain": [
       "[(256, 0.5956175298804781),\n",
       " (512, 0.7805695142378559),\n",
       " (1024, 0.9556509298998569),\n",
       " (2048, 0.93361285814116),\n",
       " (4096, 0.777602523659306)]"
      ]
     },
     "execution_count": 31,
     "metadata": {},
     "output_type": "execute_result"
    }
   ],
   "source": [
    "# Printing out the results of the validation. The optimal setting is between 512 and 4096\n",
    "[(f, validation_results[f]['f1']) for f in validation_results.keys()]"
   ]
  },
  {
   "cell_type": "markdown",
   "id": "4ee89e00-3ca1-4d17-9f3b-5efa5d121031",
   "metadata": {},
   "source": [
    "The results already look excellent. An f1-measure of 0.95 is already well beyond what we were seeing earlier. Let's see if we can specify a finer range and discover a better hyperparameter setting."
   ]
  },
  {
   "cell_type": "code",
   "execution_count": 32,
   "id": "f9af1fe6-cccb-4420-99a0-e1e5b345a9cc",
   "metadata": {},
   "outputs": [],
   "source": [
    "# Repeat validation with a narrower range\n",
    "validation_results = {}\n",
    "max_samples = range(500, 2200, 200)\n",
    "for max_sample in max_samples:\n",
    "    \n",
    "    # We are fixing the n_estimators to 50 to be quicker. n_jobs = -1 lets us train on all cores\n",
    "    isolation_forest = IsolationForest(n_estimators=50, \n",
    "                                       max_samples = max_sample, \n",
    "                                       n_jobs=-1, \n",
    "                                       contamination = 0.0066, \n",
    "                                       random_state=42)\n",
    "    \n",
    "    res = experiment(isolation_forest, x_val, y_val)\n",
    "    validation_results[max_sample] = res"
   ]
  },
  {
   "cell_type": "code",
   "execution_count": 33,
   "id": "eb675fb6-34fc-48fa-93b7-b6b0190efc5a",
   "metadata": {},
   "outputs": [
    {
     "data": {
      "text/plain": [
       "[(500, 0.7133984028393966),\n",
       " (700, 0.7355163727959698),\n",
       " (900, 0.7577741407528642),\n",
       " (1100, 0.9556509298998569),\n",
       " (1300, 0.9362606232294618),\n",
       " (1500, 0.956397426733381),\n",
       " (1700, 0.9323098394975575),\n",
       " (1900, 0.8104374520337683),\n",
       " (2100, 0.8592483419307295)]"
      ]
     },
     "execution_count": 33,
     "metadata": {},
     "output_type": "execute_result"
    }
   ],
   "source": [
    "# Printing out the results of the validation. The optimal setting is between 512 and 2048\n",
    "[(f, validation_results[f]['f1']) for f in validation_results.keys()]"
   ]
  },
  {
   "cell_type": "markdown",
   "id": "6e51a29c-4bca-4e00-90d1-4e9349e4a9c2",
   "metadata": {},
   "source": [
    "The optimal ranges are between 900 and 1100, and somewhere around 1300-1700 with 1500 being the peak. Let's explore both these ranges. We will go from 950 to 1100 in increments of 10, and 1300-1700 in increments of 100."
   ]
  },
  {
   "cell_type": "code",
   "execution_count": 34,
   "id": "67c12fed-5b1d-44c4-bad5-c569c8af9397",
   "metadata": {},
   "outputs": [],
   "source": [
    "# Repeat validation with a narrower range\n",
    "validation_results = {}\n",
    "max_samples = list(range(950, 1110, 10)) + list(range(1300, 1800, 100))\n",
    "for max_sample in max_samples:\n",
    "    \n",
    "    # We are fixing the n_estimators to 50 to be quicker. n_jobs = -1 lets us train on all cores\n",
    "    isolation_forest = IsolationForest(n_estimators=50, \n",
    "                                       max_samples = max_sample, \n",
    "                                       n_jobs=-1, \n",
    "                                       contamination = 0.0066, \n",
    "                                       random_state=42)\n",
    "    \n",
    "    res = experiment(isolation_forest, x_val, y_val)\n",
    "    validation_results[max_sample] = res"
   ]
  },
  {
   "cell_type": "code",
   "execution_count": 35,
   "id": "a267cacd-ff4b-4c9a-af34-d4b654cad5dc",
   "metadata": {},
   "outputs": [
    {
     "data": {
      "text/plain": [
       "[(950, 0.9632299927901946),\n",
       " (960, 0.9618430525557955),\n",
       " (970, 0.9631768953068592),\n",
       " (980, 0.9604031677465803),\n",
       " (990, 0.9206819866567828),\n",
       " (1000, 0.9611510791366906),\n",
       " (1010, 0.9562096195262024),\n",
       " (1020, 0.9577060931899641),\n",
       " (1030, 0.9529243937232525),\n",
       " (1040, 0.9522451888809693),\n",
       " (1050, 0.8836858006042296),\n",
       " (1060, 0.9431245500359972),\n",
       " (1070, 0.9548387096774194),\n",
       " (1080, 0.9555236728837877),\n",
       " (1090, 0.9556509298998569),\n",
       " (1100, 0.9556509298998569),\n",
       " (1300, 0.9362606232294618),\n",
       " (1400, 0.9495380241648899),\n",
       " (1500, 0.956397426733381),\n",
       " (1600, 0.9468462083628633),\n",
       " (1700, 0.9323098394975575)]"
      ]
     },
     "execution_count": 35,
     "metadata": {},
     "output_type": "execute_result"
    }
   ],
   "source": [
    "# Printing out the results of the validation. The optimal setting is between 512 and 2048\n",
    "[(f, validation_results[f]['f1']) for f in validation_results.keys()]"
   ]
  },
  {
   "cell_type": "markdown",
   "id": "e2436bef-85a0-4850-8a8a-c95c35708b7a",
   "metadata": {},
   "source": [
    "We can keep going with the hyperparameter tuning or be satisfied with the values we are seeing. After some point, you will see diminishing gains, so keep that in mind in the future. From our results, it seems that the setting of 950 actually performed the best somehow, so we will use this setting as we go forward with tuning the other hyperparameters."
   ]
  },
  {
   "cell_type": "markdown",
   "id": "dae6451f-1714-4c6d-a3a4-318661f2db46",
   "metadata": {},
   "source": [
    "#### Tuning max_features"
   ]
  },
  {
   "cell_type": "code",
   "execution_count": 36,
   "id": "69d1432b-71aa-47c7-861d-7d0213c35f47",
   "metadata": {},
   "outputs": [],
   "source": [
    "# Tuning max_features\n",
    "validation_results = {}\n",
    "max_features = range(5, 8, 1)\n",
    "for max_feature in max_features:\n",
    "    max_feature = max_feature / 10.0\n",
    "    \n",
    "    # We are fixing the n_estimators to 50 to be quicker. n_jobs = -1 lets us train on all cores\n",
    "    isolation_forest = IsolationForest(n_estimators=50, \n",
    "                                       max_samples = 950,\n",
    "                                       max_features = max_feature,\n",
    "                                       n_jobs=-1, \n",
    "                                       contamination = 0.0066, \n",
    "                                       random_state=42)\n",
    "    \n",
    "    res = experiment(isolation_forest, x_val, y_val)\n",
    "    validation_results[max_feature] = res"
   ]
  },
  {
   "cell_type": "code",
   "execution_count": 37,
   "id": "a4a3d6b7-c2ba-46a1-82fd-3932c527b5be",
   "metadata": {},
   "outputs": [
    {
     "data": {
      "text/plain": [
       "[(0.5, 0.7455012853470437),\n",
       " (0.6, 0.9722627737226277),\n",
       " (0.7, 0.9693877551020408)]"
      ]
     },
     "execution_count": 37,
     "metadata": {},
     "output_type": "execute_result"
    }
   ],
   "source": [
    "# Printing out the results of the validation. The optimal setting is between 512 and 2048\n",
    "[(f, validation_results[f]['f1']) for f in validation_results.keys()]"
   ]
  },
  {
   "cell_type": "markdown",
   "id": "b70bd45b-a73a-4094-b21a-2364ad29d95a",
   "metadata": {},
   "source": [
    "Our performance is increasing more. Let's narrow the range to be between 0.55 and 0.7"
   ]
  },
  {
   "cell_type": "code",
   "execution_count": 38,
   "id": "7f84366d-6465-461e-b82d-2f8edaa32144",
   "metadata": {},
   "outputs": [],
   "source": [
    "# Tuning max_features with a narrower range\n",
    "validation_results = {}\n",
    "max_features = range(55, 71, 1)\n",
    "for max_feature in max_features:\n",
    "    max_feature = max_feature / 100.0\n",
    "    \n",
    "    # We are fixing the n_estimators to 50 to be quicker. n_jobs = -1 lets us train on all cores\n",
    "    isolation_forest = IsolationForest(n_estimators=50, \n",
    "                                       max_samples = 950,\n",
    "                                       max_features = max_feature,\n",
    "                                       n_jobs=-1, \n",
    "                                       contamination = 0.0066, \n",
    "                                       random_state=42)\n",
    "    \n",
    "    res = experiment(isolation_forest, x_val, y_val)\n",
    "    validation_results[max_feature] = res"
   ]
  },
  {
   "cell_type": "code",
   "execution_count": 39,
   "id": "f8323a18-8881-4a36-8314-113f5bb50550",
   "metadata": {},
   "outputs": [
    {
     "data": {
      "text/plain": [
       "[(0.55, 0.9722627737226277),\n",
       " (0.56, 0.9722627737226277),\n",
       " (0.57, 0.9722627737226277),\n",
       " (0.58, 0.9722627737226277),\n",
       " (0.59, 0.9722627737226277),\n",
       " (0.6, 0.9722627737226277),\n",
       " (0.61, 0.9722627737226277),\n",
       " (0.62, 0.9295154185022027),\n",
       " (0.63, 0.9295154185022027),\n",
       " (0.64, 0.9295154185022027),\n",
       " (0.65, 0.9295154185022027),\n",
       " (0.66, 0.9295154185022027),\n",
       " (0.67, 0.9295154185022027),\n",
       " (0.68, 0.9295154185022027),\n",
       " (0.69, 0.9295154185022027),\n",
       " (0.7, 0.9693877551020408)]"
      ]
     },
     "execution_count": 39,
     "metadata": {},
     "output_type": "execute_result"
    }
   ],
   "source": [
    "# Printing out the results of the validation. The optimal setting is between 512 and 2048\n",
    "[(f, validation_results[f]['f1']) for f in validation_results.keys()]"
   ]
  },
  {
   "cell_type": "markdown",
   "id": "4f95c62a-6c8f-4239-8528-51d36406941c",
   "metadata": {},
   "source": [
    "Let's stick with 0.55 and tune our final hyperparameter, the number of estimators in the forest."
   ]
  },
  {
   "cell_type": "code",
   "execution_count": 40,
   "id": "acdd9a5b-c040-4561-9ffe-414178ed62be",
   "metadata": {},
   "outputs": [],
   "source": [
    "# Tuning max_features with a narrower range\n",
    "validation_results = {}\n",
    "n_estimators = range(10, 110, 10)\n",
    "for n_estimator in n_estimators:\n",
    "    \n",
    "    # We are fixing the n_estimators to 50 to be quicker. n_jobs = -1 lets us train on all cores\n",
    "    isolation_forest = IsolationForest(n_estimators=n_estimator, \n",
    "                                       max_samples = 950,\n",
    "                                       max_features = 0.55,\n",
    "                                       n_jobs=-1, \n",
    "                                       contamination = 0.0066, \n",
    "                                       random_state=42)\n",
    "    \n",
    "    res = experiment(isolation_forest, x_val, y_val)\n",
    "    validation_results[n_estimator] = res"
   ]
  },
  {
   "cell_type": "code",
   "execution_count": 41,
   "id": "fb88b966-4e14-44d1-b94c-14e7d98aee7c",
   "metadata": {},
   "outputs": [
    {
     "data": {
      "text/plain": [
       "[(10, 0.9799851742031134),\n",
       " (20, 0.9765395894428153),\n",
       " (30, 0.9758241758241758),\n",
       " (40, 0.9743964886613021),\n",
       " (50, 0.9722627737226277),\n",
       " (60, 0.9743964886613021),\n",
       " (70, 0.9659173313995649),\n",
       " (80, 0.9542203147353362),\n",
       " (90, 0.9568965517241379),\n",
       " (100, 0.958963282937365)]"
      ]
     },
     "execution_count": 41,
     "metadata": {},
     "output_type": "execute_result"
    }
   ],
   "source": [
    "# Printing out the results of the validation. The optimal setting is between 512 and 2048\n",
    "[(f, validation_results[f]['f1']) for f in validation_results.keys()]"
   ]
  },
  {
   "cell_type": "markdown",
   "id": "2f9b6e09-e304-479a-a6da-d4bdf069bd60",
   "metadata": {},
   "source": [
    "It appears that with as little as 10 estimators in the forest, the isolation forest is able to predict anomalies quite well on the validation set. Let's keep all these hyperparameter settings, train on the training data, and evaluate on the test data and see what we get."
   ]
  },
  {
   "cell_type": "code",
   "execution_count": 42,
   "id": "0300236e-8ecd-47e3-b8cc-fbb8f43ab1e6",
   "metadata": {},
   "outputs": [
    {
     "name": "stdout",
     "output_type": "stream",
     "text": [
      "Precision: 0.9760885082084225\n",
      "Recall: 0.9802867383512545\n",
      "F1-Measure: 0.9781831187410587\n"
     ]
    }
   ],
   "source": [
    "# Set our hyperparameters that we discovered during validation and train\n",
    "isolation_forest = IsolationForest(n_estimators=10, \n",
    "                                   max_samples = 950,\n",
    "                                   max_features = 0.55,\n",
    "                                   n_jobs=-1, \n",
    "                                   contamination = 0.0066, \n",
    "                                   random_state=42)\n",
    "\n",
    "isolation_forest.fit(x_train)\n",
    "anomaly_scores = isolation_forest.decision_function(x_train)\n",
    "\n",
    "\n",
    "lr = LogisticRegression()\n",
    "lr.fit(anomaly_scores.reshape(-1, 1), y_train)\n",
    "\n",
    "preds = lr.predict(anomaly_scores.reshape(-1,1))\n",
    "\n",
    "precision = precision_score(y_train, preds)\n",
    "recall = recall_score(y_train, preds)\n",
    "f1 = f1_score(y_train, preds)\n",
    "\n",
    "print(f\"Precision: {precision}\")\n",
    "print(f\"Recall: {recall}\")\n",
    "print(f\"F1-Measure: {f1}\")"
   ]
  },
  {
   "cell_type": "markdown",
   "id": "ebac6eff-7897-47a7-8702-913bbe101f4f",
   "metadata": {},
   "source": [
    "Those are strong results, especially when compared to our stock training run. Let's see how it does on the test set now."
   ]
  },
  {
   "cell_type": "code",
   "execution_count": 43,
   "id": "ff81023b-8460-4616-8556-e58e83bb030a",
   "metadata": {},
   "outputs": [
    {
     "name": "stdout",
     "output_type": "stream",
     "text": [
      "Precision: 0.9773519163763066\n",
      "Recall: 0.9859402460456942\n",
      "F1-Measure: 0.9816272965879265\n"
     ]
    }
   ],
   "source": [
    "anomaly_scores = isolation_forest.decision_function(x_test)\n",
    "\n",
    "preds = lr.predict(anomaly_scores.reshape(-1,1))\n",
    "\n",
    "precision = precision_score(y_test, preds)\n",
    "recall = recall_score(y_test, preds)\n",
    "f1 = f1_score(y_test, preds)\n",
    "\n",
    "print(f\"Precision: {precision}\")\n",
    "print(f\"Recall: {recall}\")\n",
    "print(f\"F1-Measure: {f1}\")"
   ]
  },
  {
   "cell_type": "markdown",
   "id": "02d3be82-9e8b-476d-9f40-a27c3cc5ecce",
   "metadata": {},
   "source": [
    "An F1-Measure of 0.979 is quite strong. Let's check the ROC-AUC score as well"
   ]
  },
  {
   "cell_type": "code",
   "execution_count": 44,
   "id": "adf93ed3-fa5f-487c-9c01-3748ed4d14cd",
   "metadata": {},
   "outputs": [
    {
     "data": {
      "text/plain": [
       "0.9929001515496785"
      ]
     },
     "execution_count": 44,
     "metadata": {},
     "output_type": "execute_result"
    }
   ],
   "source": [
    "roc_auc_score(y_test, preds)"
   ]
  },
  {
   "cell_type": "markdown",
   "id": "ce2d46aa-687a-469a-80d1-58431d54a86a",
   "metadata": {},
   "source": [
    "This is a very strong score. Though the data is imbalanced (and thus, f1-measure is better to prioritize), this does indicate strength in overall performance over normal and anomaly predictions.\n",
    "\n",
    "Let's examine the confusion matrix using scikit-learn's visualizer:"
   ]
  },
  {
   "cell_type": "code",
   "execution_count": 45,
   "id": "0de5def8-4486-4499-8e7c-11a592737581",
   "metadata": {},
   "outputs": [
    {
     "data": {
      "image/png": "[encoded data removed]",
      "text/plain": [
       "<Figure size 640x480 with 2 Axes>"
      ]
     },
     "metadata": {},
     "output_type": "display_data"
    }
   ],
   "source": [
    "conf_mat = confusion_matrix(y_test, preds)\n",
    "ConfusionMatrixDisplay(conf_mat).plot()\n",
    "plt.show()"
   ]
  },
  {
   "cell_type": "code",
   "execution_count": 46,
   "id": "7ac4d022-7375-4e21-ac42-f32a3574fb0d",
   "metadata": {},
   "outputs": [
    {
     "name": "stdout",
     "output_type": "stream",
     "text": [
      "True Negative: 92882\n",
      "False Negative: 8\n",
      "True Positive: 561\n",
      "False Positive: 13\n"
     ]
    }
   ],
   "source": [
    "tn, fp, fn, tp = conf_mat.ravel()\n",
    "print(\"True Negative:\", tn)\n",
    "print(\"False Negative:\", fn)\n",
    "print(\"True Positive:\", tp)\n",
    "print(\"False Positive:\", fp)"
   ]
  },
  {
   "cell_type": "markdown",
   "id": "6ae5017c-e582-4c6f-97ad-4092d4cd0dfa",
   "metadata": {},
   "source": [
    "These results are quite good. Analyzing them, we see that:\n",
    "\n",
    "- There are 8 false negatives out of 569 total anomalies. \n",
    "- There are 16 false positives out of some ~93k normal data\n",
    "- The precision, recall and the f1-scores are all quite high. This is a strong anomaly detector\n"
   ]
  },
  {
   "cell_type": "markdown",
   "id": "bf8822bb-b8cf-4e9a-8a74-b2a7de719cbc",
   "metadata": {},
   "source": [
    "With that, hopefully you know how to implement isolation forest into your own datasets and apply the hyperparameter tuning process to develop a strong isolation forest model.\n",
    "\n",
    "K-Fold cross validation might have helped us make more robust hyperparameter tuning decisions, but as far as going in the right direction, hold-out cross validation can be sufficient. "
   ]
  }
 ],
 "metadata": {
  "kernelspec": {
   "display_name": "data-science-consultant-lessons-6aIS_sqJ-py3.12",
   "language": "python",
   "name": "python3"
  },
  "language_info": {
   "codemirror_mode": {
    "name": "ipython",
    "version": 3
   },
   "file_extension": ".py",
   "mimetype": "text/x-python",
   "name": "python",
   "nbconvert_exporter": "python",
   "pygments_lexer": "ipython3",
   "version": "3.12.6"
  }
 },
 "nbformat": 4,
 "nbformat_minor": 5
}
