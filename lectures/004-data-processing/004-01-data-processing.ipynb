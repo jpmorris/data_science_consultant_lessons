{
 "cells": [
  {
   "cell_type": "markdown",
   "id": "a601745f",
   "metadata": {},
   "source": [
    "# Ways data scientists manipulate and process data:\n",
    "- Pandas\n",
    "- Numpy\n",
    "- Polars\n",
    "- Dask\n",
    "- DuckDB\n",
    "- Spark\n",
    "- SQL\n",
    "- Hadoop"
   ]
  },
  {
   "cell_type": "markdown",
   "id": "d22d39ff",
   "metadata": {
    "lines_to_next_cell": 2
   },
   "source": [
    "# In-memory, single machine options\n",
    "- Pandas - most widly supported dataframe library\n",
    "- Numpy - multi-dimensional arrays, mostly numerical\n",
    "- Dask - parallelized dataframes\n",
    "- DuckDB - columnar-vectorized query engine with SQL interface\n",
    "- Polars - parallized dataframes\n",
    "- Vaex - Out-of-core DataFrames\n",
    "- Modin - drop-in replacement for pandas, but parallelized"
   ]
  },
  {
   "cell_type": "markdown",
   "id": "af477f59",
   "metadata": {
    "lines_to_next_cell": 2
   },
   "source": [
    "# In memory, distributed\n",
    "- Apache Spark - analytics engine for large-scale data processing\n",
    "- Lesser used (by data scientists)\n",
    "  - Apache Flink - stream processing/batch procesing framework\n",
    "  - Apache Beam - data procesing piplines"
   ]
  },
  {
   "cell_type": "markdown",
   "id": "043d3e7e",
   "metadata": {},
   "source": [
    "# On-disk, single machine\n",
    "- SQL:\n",
    "  - Goes back to 1970s; built on low-memory constriants\n",
    "  - Many engines (SQLite, MySQL, Postgres, Oracle, SQL Server, etc.)\n",
    "  - Computation happens on disk\n",
    "     - memory usage is determined by `work_mem`, and is often very small (ours is at 4MB)\n",
    "     - Units of work occur in memory but are written to disk and cleared from memory as needed\n",
    "       - This is why you can run large queries on a small machine"
   ]
  },
  {
   "cell_type": "markdown",
   "id": "a378a0b6",
   "metadata": {},
   "source": [
    "# On disk, distributed\n",
    "- Hadoop - distributed storage and processing\n",
    "  - HDFS - distributed file system\n",
    "  - MapReduce - distributed processing\n",
    "  - Pig - SQL-like language on top of Hadoop\n",
    "  - Hive - SQL-like language on top of Hadoop\n",
    "  - HBase - key value store, column-based store (like BigTable, Cassandra, Hypertable)\n",
    "    - used in Facebook messenger"
   ]
  },
  {
   "cell_type": "markdown",
   "id": "e5bb3ab6",
   "metadata": {},
   "source": [
    "# Comparisions and practices\n",
    "- In-memory engines:\n",
    "  - Faster than on-disk engines\n",
    "  - Pandas is most widely supported but slower than other options\n",
    "    - Pandas 2.0 integrates pyArrow for better performance to close the gap but still slower\n",
    "  - Different solutions to Pandas slowness:\n",
    "    - Pandas 2.0 - integrates pyArrow for better performance\n",
    "    - Polars - rewrite Pandas from scratch with parallelism in mind\n",
    "    - DuckDB - separate project, wraps a data source and performs large analytics with parallelism\n",
    "    - Dask - user-controled paritions and dataframe per partition\n",
    "  - According non-pandas options https://www.youtube.com/watch?v=DwtbPhbDecQ&t=535s\n",
    "    - No option is consistently faster than the others\n",
    "      - DuckDB comes the closest\n",
    "      - At very high scale (>10TB in the cloud), dask, duckdb, and spark shoudl be considered.\n",
    "- On-disk, single machine engines (SQL):\n",
    "    - SQL wont have the memory constraints as with in-memory engines\n",
    "    - SQL result may come slower (not accounting for time to load into memory) but can handle larger datasets\n",
    "- Distributed, on-disk engines like Hadoop still have use cases, but fewer cases for data scientists workflows\n",
    "- For big data analytics, Spark is usually the better option.\n",
    "- OLAP--online analytical processing--(Apagche Druid, Kylin, Pinot) databases are an option for regular/similar business analytics queries\n",
    "  - Reminder: Databases uses can be large analytical queries, or small fast record keeping, among others\n",
    "  - OLAP is an analytical processing more for business analytics, closer to datascience\n",
    "  - OLTP is another paradigm that has more to do with transactional processing of individual records and ACID\n",
    "    - ACID: Atomicity, Consistency, Isolation, Durability - part of SQL that is sacraficed in NoSQL\n",
    "      - See Turing Award winner, Michael Stonebraker's talks on Youtube for an explanation and contraversal take\n"
   ]
  }
 ],
 "metadata": {
  "jupytext": {
   "cell_metadata_filter": "-all",
   "main_language": "python",
   "notebook_metadata_filter": "-all"
  }
 },
 "nbformat": 4,
 "nbformat_minor": 5
}
