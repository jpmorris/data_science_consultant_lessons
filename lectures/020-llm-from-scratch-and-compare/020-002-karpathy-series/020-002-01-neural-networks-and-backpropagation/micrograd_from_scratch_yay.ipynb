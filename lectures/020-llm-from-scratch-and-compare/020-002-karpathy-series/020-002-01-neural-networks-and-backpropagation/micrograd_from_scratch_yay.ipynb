{
 "cells": [
  {
   "cell_type": "code",
   "execution_count": 1,
   "id": "1d684cdd-d756-46f5-a7ac-2cfb02c7e4d7",
   "metadata": {},
   "outputs": [],
   "source": [
    "import math\n",
    "import numpy as np\n",
    "import matplotlib.pyplot as plt\n",
    "np.random.rand()\n",
    "\n",
    "def f(x):\n",
    "   \n",
    "    return 3*x**2 - 2*x + 1"
   ]
  },
  {
   "cell_type": "code",
   "execution_count": 2,
   "id": "d63fd23e-ccd1-4235-a89e-5dca2ec005c9",
   "metadata": {},
   "outputs": [
    {
     "data": {
      "text/plain": [
       "22"
      ]
     },
     "execution_count": 2,
     "metadata": {},
     "output_type": "execute_result"
    }
   ],
   "source": [
    "f(3)"
   ]
  },
  {
   "cell_type": "code",
   "execution_count": 3,
   "id": "0bc883e2-a79e-4fcb-89b7-4d97fca585ce",
   "metadata": {},
   "outputs": [
    {
     "data": {
      "text/plain": [
       "[<matplotlib.lines.Line2D at 0x7172003dfb10>]"
      ]
     },
     "execution_count": 3,
     "metadata": {},
     "output_type": "execute_result"
    },
    {
     "data": {
      "image/png": "[encoded data removed]",
      "text/plain": [
       "<Figure size 640x480 with 1 Axes>"
      ]
     },
     "metadata": {},
     "output_type": "display_data"
    }
   ],
   "source": [
    "xs = np.arange(0, 1, 0.02)\n",
    "ys = f(xs)\n",
    "plt.plot(xs, ys)"
   ]
  },
  {
   "cell_type": "markdown",
   "id": "2b2fa383",
   "metadata": {},
   "source": [
    "From wikipeida:\n",
    "A function of a real variable $f(x)$ is differentiable at a point $a$ of its domain, if its domain contains an open interval containing $a$ and the limit\n",
    "\n",
    "$$L = \\lim_{h \\to 0} \\frac{f(a+h)-f(a)}{h}$$\n"
   ]
  },
  {
   "cell_type": "code",
   "execution_count": 4,
   "id": "a5c1a374",
   "metadata": {},
   "outputs": [
    {
     "data": {
      "text/plain": [
       "-19.99999966528776"
      ]
     },
     "execution_count": 4,
     "metadata": {},
     "output_type": "execute_result"
    }
   ],
   "source": [
    "h = 0.0000001\n",
    "x = -3\n",
    "(f(x+h) - f(x))/h"
   ]
  },
  {
   "cell_type": "code",
   "execution_count": null,
   "id": "653af0a5",
   "metadata": {},
   "outputs": [],
   "source": []
  },
  {
   "cell_type": "code",
   "execution_count": 5,
   "id": "85be844e-a139-4166-a1b4-819ecbe5a157",
   "metadata": {},
   "outputs": [],
   "source": [
    "class Value:\n",
    "    \n",
    "    def __init__(self, data, _children = (), _op =''):\n",
    "        self.data = data \n",
    "        self.grad = 0.0\n",
    "        self._backward = lambda : None\n",
    "        self._prev = set(_children)\n",
    "        self._op = _op\n",
    "        \n",
    "    def __repr__ (self):\n",
    "        return f\"Value(data: {self.data})\"\n",
    "        \n",
    "    def __add__ (self, other):\n",
    "        other = other if isinstance(other, Value) else Value(other)\n",
    "        out = Value(self.data + other.data, (self, other), '+')\n",
    "        \n",
    "        def _backward():\n",
    "            self.grad += 1.0 * out.grad\n",
    "            other.grad += 1.0 * out.grad\n",
    "        out._backward = _backward \n",
    "        \n",
    "        return out\n",
    "\n",
    "    def __radd__ (self, other):\n",
    "        return self + other\n",
    "\n",
    "    def __neg__ (self):\n",
    "        return self * -1\n",
    "\n",
    "    def __sub__ (self, other):\n",
    "        return self + (-other)\n",
    "\n",
    "    def __rsub__ (self, other):\n",
    "        return self - other\n",
    "    \n",
    "    def __mul__ (self, other):\n",
    "        other = other if isinstance(other, Value) else Value(other)\n",
    "        out = Value(self.data * other.data, (self, other), '*')\n",
    "\n",
    "        def _backward():\n",
    "            self.grad += other.data * out.grad\n",
    "            other.grad += self.data * out.grad\n",
    "        out._backward = _backward \n",
    "        \n",
    "        return out\n",
    "\n",
    "    def __rmul__ (self, other):\n",
    "        return self * other\n",
    "\n",
    "    def __pow__ (self, other):\n",
    "        assert isinstance(other, (int, float)), \"only supporting int/float for now\" \n",
    "        out = Value(self.data**other, (self,), f'**{other}')\n",
    "\n",
    "        def _backward():\n",
    "            self.grad += other * (self.data**(other - 1)) * out.grad\n",
    "        out._backward = _backward\n",
    "    \n",
    "        return out\n",
    "        \n",
    "        \n",
    "    def tanh(self):\n",
    "        x = self.data\n",
    "        t = (math.exp(2*x) - 1)/(math.exp(2*x) + 1)\n",
    "\n",
    "        out = Value(t, (self, ), 'tanh')\n",
    "\n",
    "        def _backward():\n",
    "            self.grad += (1 - t**2) * out.grad\n",
    "        out._backward = _backward\n",
    "\n",
    "        return out\n",
    "\n",
    "    def relu(self):\n",
    "        x = self.data\n",
    "        t = max(0, x)\n",
    "\n",
    "        out = Value(t, (self, ), 'relu')\n",
    "\n",
    "        def _backward():\n",
    "            self.grad += out.grad * (x > 0)\n",
    "        out._backward = _backward\n",
    "            \n",
    "        return out\n",
    "    \n",
    "        \n",
    "    def backward(self):\n",
    "\n",
    "        topo = []\n",
    "        visited = set()\n",
    "\n",
    "        def build_topo(v):\n",
    "            if v not in visited:\n",
    "                visited.add(v)\n",
    "                for child in v._prev:\n",
    "                    build_topo(child)\n",
    "                topo.append(v)\n",
    "        build_topo(self)\n",
    "\n",
    "        self.grad = 1.0\n",
    "        for n in reversed(topo):\n",
    "            n._backward()\n",
    "\n",
    "\n",
    "        "
   ]
  },
  {
   "cell_type": "code",
   "execution_count": 6,
   "id": "a2918f56-622e-419b-aa12-5bae91bcc6f4",
   "metadata": {},
   "outputs": [
    {
     "data": {
      "text/plain": [
       "Value(data: 0.7827108021433976)"
      ]
     },
     "execution_count": 6,
     "metadata": {},
     "output_type": "execute_result"
    }
   ],
   "source": [
    "class Neuron:\n",
    "    def __init__ (self, nin):\n",
    "        self.weights = [Value(np.random.uniform(-1,1)) for _ in range(nin)]\n",
    "        self.bias = Value(np.random.uniform(-1, 1))\n",
    "\n",
    "    def __call__ (self, x):\n",
    "        act = sum((wi*xi for wi, xi in zip(self.weights, x)), self.bias)\n",
    "        out = act.tanh()\n",
    "        return out\n",
    "\n",
    "    def parameters (self):\n",
    "        return self.weights + [self.bias]\n",
    "\n",
    "class Layer:\n",
    "    def __init__ (self, nin, nout):\n",
    "        self.neurons = [Neuron(nin) for _ in range(nout)]\n",
    "\n",
    "    def __call__ (self, x):\n",
    "        outs = [n(x) for n in self.neurons]\n",
    "        return outs[0] if len(outs) == 1 else outs\n",
    "\n",
    "    def parameters (self):\n",
    "        return [p for neuron in self.neurons for p in neuron.parameters()]\n",
    "\n",
    "class MLP:\n",
    "    \n",
    "    def __init__ (self, nin, nouts):\n",
    "        size = [nin] + nouts\n",
    "        self.layers = [Layer(size[i], size[i+1]) for i in range(len(nouts))]\n",
    "\n",
    "    def __call__ (self, x):\n",
    "        for layer in self.layers:\n",
    "            x = layer(x)\n",
    "        return x\n",
    "\n",
    "    def parameters (self):\n",
    "        return [p for layer in self.layers for p in layer.parameters()]\n",
    "\n",
    "    def zero_grad (self):\n",
    "        for p in n.parameters():\n",
    "            p.grad = 0.0\n",
    "\n",
    "x = [1.0, -2.0, 3.0]\n",
    "n = MLP(3, [4, 4, 1])\n",
    "n(x)\n"
   ]
  },
  {
   "cell_type": "code",
   "execution_count": 7,
   "id": "cc795b38",
   "metadata": {},
   "outputs": [
    {
     "ename": "NameError",
     "evalue": "name 'draw_dot' is not defined",
     "output_type": "error",
     "traceback": [
      "\u001b[0;31m---------------------------------------------------------------------------\u001b[0m",
      "\u001b[0;31mNameError\u001b[0m                                 Traceback (most recent call last)",
      "Cell \u001b[0;32mIn[7], line 6\u001b[0m\n\u001b[1;32m      4\u001b[0m d \u001b[38;5;241m=\u001b[39m a \u001b[38;5;241m*\u001b[39m b \u001b[38;5;241m+\u001b[39m c\n\u001b[1;32m      5\u001b[0m d\n\u001b[0;32m----> 6\u001b[0m \u001b[43mdraw_dot\u001b[49m(loss)\n",
      "\u001b[0;31mNameError\u001b[0m: name 'draw_dot' is not defined"
     ]
    }
   ],
   "source": [
    "a = Value(2.0)\n",
    "b = Value(-3.0)\n",
    "c = Value(10.0)\n",
    "d = a * b + c\n",
    "d\n",
    "draw_dot(loss)"
   ]
  },
  {
   "cell_type": "code",
   "execution_count": 8,
   "id": "d36fab02-d5b4-4ed8-be7c-4f875a6d2c6e",
   "metadata": {},
   "outputs": [],
   "source": [
    "from graphviz import Digraph\n",
    "\n",
    "def trace(root):\n",
    "    nodes, edges = set(), set()\n",
    "    def build(v):\n",
    "        if v not in nodes:\n",
    "            nodes.add(v)\n",
    "            for child in v._prev:\n",
    "                edges.add((child, v))\n",
    "                build(child)\n",
    "    build(root)          \n",
    "    return nodes, edges\n",
    "\n",
    "def draw_dot(root):\n",
    "    dot = Digraph(format='SVG', graph_attr={'rankdir' : 'LR'})\n",
    "\n",
    "    nodes, edges = trace(root)\n",
    "    for n in nodes:\n",
    "        uid = str(id(n))\n",
    "        dot.node(name=uid, label=\"{data %.4f | grad %.4f}\" % (n.data, n.grad, ), shape='record')\n",
    "        if n._op:\n",
    "            dot.node(name=uid + n._op, label=n._op)\n",
    "            dot.edge(uid + n._op, uid)\n",
    "    for n1, n2 in edges:\n",
    "        dot.edge(str(id(n1)), str(id(n2)) + n2._op)\n",
    "          \n",
    "    return dot"
   ]
  },
  {
   "cell_type": "code",
   "execution_count": 10,
   "id": "65371ff4",
   "metadata": {},
   "outputs": [
    {
     "data": {
      "image/svg+xml": [
       "<?xml version=\"1.0\" encoding=\"UTF-8\" standalone=\"no\"?>\n",
       "<!DOCTYPE svg PUBLIC \"-//W3C//DTD SVG 1.1//EN\"\n",
       " \"http://www.w3.org/Graphics/SVG/1.1/DTD/svg11.dtd\">\n",
       "<!-- Generated by graphviz version 12.1.2 (0)\n",
       " -->\n",
       "<!-- Pages: 1 -->\n",
       "<svg width=\"887pt\" height=\"128pt\"\n",
       " viewBox=\"0.00 0.00 887.00 128.00\" xmlns=\"http://www.w3.org/2000/svg\" xmlns:xlink=\"http://www.w3.org/1999/xlink\">\n",
       "<g id=\"graph0\" class=\"graph\" transform=\"scale(1 1) rotate(0) translate(4 124)\">\n",
       "<polygon fill=\"white\" stroke=\"none\" points=\"-4,4 -4,-124 883,-124 883,4 -4,4\"/>\n",
       "<!-- 124734403977280 -->\n",
       "<g id=\"node1\" class=\"node\">\n",
       "<title>124734403977280</title>\n",
       "<polygon fill=\"none\" stroke=\"black\" points=\"674.5,-27.5 674.5,-63.5 879,-63.5 879,-27.5 674.5,-27.5\"/>\n",
       "<text text-anchor=\"middle\" x=\"725.25\" y=\"-41.2\" font-family=\"Times,serif\" font-size=\"14.00\">data 4.0000</text>\n",
       "<polyline fill=\"none\" stroke=\"black\" points=\"776,-28.25 776,-63.5\"/>\n",
       "<text text-anchor=\"middle\" x=\"827.5\" y=\"-41.2\" font-family=\"Times,serif\" font-size=\"14.00\">grad 0.0000</text>\n",
       "</g>\n",
       "<!-- 124734403977280+ -->\n",
       "<g id=\"node2\" class=\"node\">\n",
       "<title>124734403977280+</title>\n",
       "<ellipse fill=\"none\" stroke=\"black\" cx=\"611.5\" cy=\"-45.5\" rx=\"27\" ry=\"18\"/>\n",
       "<text text-anchor=\"middle\" x=\"611.5\" y=\"-40.83\" font-family=\"Times,serif\" font-size=\"14.00\">+</text>\n",
       "</g>\n",
       "<!-- 124734403977280+&#45;&gt;124734403977280 -->\n",
       "<g id=\"edge1\" class=\"edge\">\n",
       "<title>124734403977280+&#45;&gt;124734403977280</title>\n",
       "<path fill=\"none\" stroke=\"black\" d=\"M638.73,-45.5C645.83,-45.5 653.98,-45.5 662.7,-45.5\"/>\n",
       "<polygon fill=\"black\" stroke=\"black\" points=\"662.5,-49 672.5,-45.5 662.5,-42 662.5,-49\"/>\n",
       "</g>\n",
       "<!-- 124734403976832 -->\n",
       "<g id=\"node3\" class=\"node\">\n",
       "<title>124734403976832</title>\n",
       "<polygon fill=\"none\" stroke=\"black\" points=\"2.25,-83.5 2.25,-119.5 206.75,-119.5 206.75,-83.5 2.25,-83.5\"/>\n",
       "<text text-anchor=\"middle\" x=\"53\" y=\"-97.2\" font-family=\"Times,serif\" font-size=\"14.00\">data 2.0000</text>\n",
       "<polyline fill=\"none\" stroke=\"black\" points=\"103.75,-84.25 103.75,-119.5\"/>\n",
       "<text text-anchor=\"middle\" x=\"155.25\" y=\"-97.2\" font-family=\"Times,serif\" font-size=\"14.00\">grad 0.0000</text>\n",
       "</g>\n",
       "<!-- 124734403976944* -->\n",
       "<g id=\"node5\" class=\"node\">\n",
       "<title>124734403976944*</title>\n",
       "<ellipse fill=\"none\" stroke=\"black\" cx=\"272\" cy=\"-73.5\" rx=\"27\" ry=\"18\"/>\n",
       "<text text-anchor=\"middle\" x=\"272\" y=\"-68.83\" font-family=\"Times,serif\" font-size=\"14.00\">*</text>\n",
       "</g>\n",
       "<!-- 124734403976832&#45;&gt;124734403976944* -->\n",
       "<g id=\"edge5\" class=\"edge\">\n",
       "<title>124734403976832&#45;&gt;124734403976944*</title>\n",
       "<path fill=\"none\" stroke=\"black\" d=\"M207.01,-84.33C216.65,-82.69 225.94,-81.12 234.3,-79.71\"/>\n",
       "<polygon fill=\"black\" stroke=\"black\" points=\"234.68,-83.19 243.96,-78.08 233.51,-76.29 234.68,-83.19\"/>\n",
       "</g>\n",
       "<!-- 124734403976944 -->\n",
       "<g id=\"node4\" class=\"node\">\n",
       "<title>124734403976944</title>\n",
       "<polygon fill=\"none\" stroke=\"black\" points=\"337.25,-55.5 337.25,-91.5 546.25,-91.5 546.25,-55.5 337.25,-55.5\"/>\n",
       "<text text-anchor=\"middle\" x=\"390.25\" y=\"-69.2\" font-family=\"Times,serif\" font-size=\"14.00\">data &#45;6.0000</text>\n",
       "<polyline fill=\"none\" stroke=\"black\" points=\"443.25,-56.25 443.25,-91.5\"/>\n",
       "<text text-anchor=\"middle\" x=\"494.75\" y=\"-69.2\" font-family=\"Times,serif\" font-size=\"14.00\">grad 0.0000</text>\n",
       "</g>\n",
       "<!-- 124734403976944&#45;&gt;124734403977280+ -->\n",
       "<g id=\"edge6\" class=\"edge\">\n",
       "<title>124734403976944&#45;&gt;124734403977280+</title>\n",
       "<path fill=\"none\" stroke=\"black\" d=\"M546.6,-56.17C556.26,-54.55 565.54,-53 573.9,-51.61\"/>\n",
       "<polygon fill=\"black\" stroke=\"black\" points=\"574.25,-55.1 583.54,-50 573.1,-48.19 574.25,-55.1\"/>\n",
       "</g>\n",
       "<!-- 124734403976944*&#45;&gt;124734403976944 -->\n",
       "<g id=\"edge2\" class=\"edge\">\n",
       "<title>124734403976944*&#45;&gt;124734403976944</title>\n",
       "<path fill=\"none\" stroke=\"black\" d=\"M299.21,-73.5C306.89,-73.5 315.83,-73.5 325.4,-73.5\"/>\n",
       "<polygon fill=\"black\" stroke=\"black\" points=\"325.38,-77 335.38,-73.5 325.38,-70 325.38,-77\"/>\n",
       "</g>\n",
       "<!-- 124734403977056 -->\n",
       "<g id=\"node6\" class=\"node\">\n",
       "<title>124734403977056</title>\n",
       "<polygon fill=\"none\" stroke=\"black\" points=\"0,-28.5 0,-64.5 209,-64.5 209,-28.5 0,-28.5\"/>\n",
       "<text text-anchor=\"middle\" x=\"53\" y=\"-42.2\" font-family=\"Times,serif\" font-size=\"14.00\">data &#45;3.0000</text>\n",
       "<polyline fill=\"none\" stroke=\"black\" points=\"106,-29.25 106,-64.5\"/>\n",
       "<text text-anchor=\"middle\" x=\"157.5\" y=\"-42.2\" font-family=\"Times,serif\" font-size=\"14.00\">grad 0.0000</text>\n",
       "</g>\n",
       "<!-- 124734403977056&#45;&gt;124734403976944* -->\n",
       "<g id=\"edge3\" class=\"edge\">\n",
       "<title>124734403977056&#45;&gt;124734403976944*</title>\n",
       "<path fill=\"none\" stroke=\"black\" d=\"M209.37,-63.45C218.07,-64.86 226.43,-66.23 234.04,-67.47\"/>\n",
       "<polygon fill=\"black\" stroke=\"black\" points=\"233.38,-70.91 243.82,-69.07 234.51,-64 233.38,-70.91\"/>\n",
       "</g>\n",
       "<!-- 124734403977168 -->\n",
       "<g id=\"node7\" class=\"node\">\n",
       "<title>124734403977168</title>\n",
       "<polygon fill=\"none\" stroke=\"black\" points=\"335,-0.5 335,-36.5 548.5,-36.5 548.5,-0.5 335,-0.5\"/>\n",
       "<text text-anchor=\"middle\" x=\"390.25\" y=\"-14.2\" font-family=\"Times,serif\" font-size=\"14.00\">data 10.0000</text>\n",
       "<polyline fill=\"none\" stroke=\"black\" points=\"445.5,-1.25 445.5,-36.5\"/>\n",
       "<text text-anchor=\"middle\" x=\"497\" y=\"-14.2\" font-family=\"Times,serif\" font-size=\"14.00\">grad 0.0000</text>\n",
       "</g>\n",
       "<!-- 124734403977168&#45;&gt;124734403977280+ -->\n",
       "<g id=\"edge4\" class=\"edge\">\n",
       "<title>124734403977168&#45;&gt;124734403977280+</title>\n",
       "<path fill=\"none\" stroke=\"black\" d=\"M548.99,-35.6C557.69,-37 566.05,-38.35 573.65,-39.57\"/>\n",
       "<polygon fill=\"black\" stroke=\"black\" points=\"572.98,-43.01 583.41,-41.14 574.09,-36.09 572.98,-43.01\"/>\n",
       "</g>\n",
       "</g>\n",
       "</svg>\n"
      ],
      "text/plain": [
       "<graphviz.graphs.Digraph at 0x7171fda85160>"
      ]
     },
     "execution_count": 10,
     "metadata": {},
     "output_type": "execute_result"
    }
   ],
   "source": [
    "a = Value(2.0)\n",
    "b = Value(-3.0)\n",
    "c = Value(10.0)\n",
    "d = a * b + c\n",
    "\n",
    "draw_dot(d)"
   ]
  },
  {
   "cell_type": "code",
   "execution_count": null,
   "id": "c04de1ee-2d55-4862-a4e8-71c3dad6e6d2",
   "metadata": {},
   "outputs": [],
   "source": [
    "xs = [\n",
    "    [2.0 , 3.0, 5.0],\n",
    "    [3.0 , -1.0, 0.5],\n",
    "    [0.5 , 1.0, 1.0],\n",
    "    [1.0 , 1.0, -1.0],\n",
    "]\n",
    "ys = [1.0, -1.0, -1.0 , 1.0]\n",
    "\n"
   ]
  },
  {
   "cell_type": "code",
   "execution_count": null,
   "id": "14d8e5e5-4097-4779-9a4c-f60a9ff6a153",
   "metadata": {},
   "outputs": [],
   "source": [
    "for k in range(1000):\n",
    "    \n",
    "    # forward pass\n",
    "    ypred = [n(x) for x in xs]\n",
    "    loss = sum((yout - ygt)**2 for ygt, yout in zip(ys, ypred))\n",
    "\n",
    "    # backward pass\n",
    "    n.zero_grad()\n",
    "    loss.backward()\n",
    "\n",
    "    # update\n",
    "    for p in n.parameters():\n",
    "        p.data += -1 * p.grad\n",
    "\n",
    "    print(k, loss) if k%100==0 else None"
   ]
  },
  {
   "cell_type": "code",
   "execution_count": null,
   "id": "967d3e3d-b8fb-422a-a3ce-9a15913886a9",
   "metadata": {},
   "outputs": [],
   "source": [
    "ypred"
   ]
  },
  {
   "cell_type": "code",
   "execution_count": null,
   "id": "8b00f51c-4a1c-4954-aee5-a1920eaa67dc",
   "metadata": {},
   "outputs": [],
   "source": [
    "n.layers[0].neurons[0].weights[0].data"
   ]
  },
  {
   "cell_type": "code",
   "execution_count": null,
   "id": "fe42c6ec-dfd9-49c3-88ba-c782a8b254f7",
   "metadata": {},
   "outputs": [],
   "source": [
    "n.parameters()"
   ]
  },
  {
   "cell_type": "code",
   "execution_count": null,
   "id": "c27cc0ea-9f05-40aa-8975-d9b5c4022d6d",
   "metadata": {},
   "outputs": [],
   "source": [
    "draw_dot(loss)"
   ]
  },
  {
   "cell_type": "code",
   "execution_count": null,
   "id": "e453f756-e5ea-41aa-acea-9f4d96154964",
   "metadata": {},
   "outputs": [],
   "source": []
  },
  {
   "cell_type": "code",
   "execution_count": null,
   "id": "8de7ee29-0e33-48c7-88a6-4c832b8ea90a",
   "metadata": {},
   "outputs": [],
   "source": []
  },
  {
   "cell_type": "code",
   "execution_count": null,
   "id": "6f55342d-f439-479d-9d62-619c03f9ad0c",
   "metadata": {},
   "outputs": [],
   "source": []
  }
 ],
 "metadata": {
  "kernelspec": {
   "display_name": ".venv (3.13.1)",
   "language": "python",
   "name": "python3"
  },
  "language_info": {
   "codemirror_mode": {
    "name": "ipython",
    "version": 3
   },
   "file_extension": ".py",
   "mimetype": "text/x-python",
   "name": "python",
   "nbconvert_exporter": "python",
   "pygments_lexer": "ipython3",
   "version": "3.13.1"
  }
 },
 "nbformat": 4,
 "nbformat_minor": 5
}
