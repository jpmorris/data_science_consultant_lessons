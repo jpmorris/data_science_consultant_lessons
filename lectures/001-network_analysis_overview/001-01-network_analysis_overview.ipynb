{
 "cells": [
  {
   "cell_type": "markdown",
   "id": "12a467cc",
   "metadata": {
    "lines_to_next_cell": 2
   },
   "source": [
    "# References\n",
    "- A First Course in Network Science\n",
    "- Schaum's Outline of Graph Theory"
   ]
  },
  {
   "cell_type": "markdown",
   "id": "8e6f3b9d",
   "metadata": {
    "lines_to_next_cell": 2
   },
   "source": [
    "# Basic Definitions - Graph Types\n",
    "- **Graph**: a set of nodes/verticies and edges\n",
    "- **Tree**: a connected graph with no cycles\n",
    "- **Node/Verticies**: a point in the graph\n",
    "- **Edge/Link**: a line connecting two nodes\n",
    "- **Weighted Graph**: a graph where edges have weights\n",
    "- **Directed Graph**: a graph where edges have direction\n",
    "- **Undirected Graph**: a graph where edges have no direction\n",
    "\n",
    "![Graph Representations](images/graph_representations.png)"
   ]
  },
  {
   "cell_type": "markdown",
   "id": "5ef69871",
   "metadata": {},
   "source": [
    "# Basic Definitions - Graph Properties\n",
    "- **Degree**: the number of edges connected to a node\n",
    "- **Path**: a sequence of nodes connected by edges\n",
    "- **Cycle**: a path that starts and ends at the same node\n",
    "- **Connected**: a graph where there is a path between every pair of nodes\n",
    "- **Subnetwork**: a subset of nodes and edges from a graph\n",
    "- **Fully Connected/Complete Network**: a graph where every pair of nodes is connected by an edge -- all connections are present\n",
    "- **Density**: the fraction of edges present in a graph\n",
    "- **Sparsity**: the fraction of edges not present in a graph\n",
    "- **Bipartite Graph**: a graph where nodes can be divided into two disjoint sets such that no two nodes within the same set are connected by an edge\n",
    "- **Homophily**: the tendency for nodes to be connected to other nodes with similar properties\n",
    "\n",
    "![Graph Examples](images/graph_examples.png)"
   ]
  },
  {
   "cell_type": "markdown",
   "id": "668b4517",
   "metadata": {},
   "source": [
    "# Basic Definitions - Graph Properties 2\n",
    "- **Cliques**: a complete subnetwork - a subnetwork where every pair of nodes is connected by an edge\n",
    "- **Component**: a connected subgraph\n",
    "- **Ego Network**: a node and its neighbors\n",
    "- **Assortativity**: the tendency for nodes to be connected to other nodes with similar properties\n",
    "- **Dissassortativity**: the tendency for nodes to be connected to other nodes with dissimilar properties\n",
    "\n",
    "![Assortativity](images/graph_assortativity.png)"
   ]
  },
  {
   "cell_type": "markdown",
   "id": "65ca413f",
   "metadata": {
    "lines_to_next_cell": 2
   },
   "source": [
    "Paul Erdos was a one of the world' greats mathmaticians.  He is know for his prolific collaboration.\n",
    "An 'Erdos number' was the the shortest path to Erdos in publications.\n",
    "\n",
    "![Erdos-Ego Network](images/erdos_ego_network.png)"
   ]
  },
  {
   "cell_type": "markdown",
   "id": "ec4a6333",
   "metadata": {
    "title": "- Network Representations"
   },
   "source": [
    "# Basic Definitions - Graph Representations\n",
    "- **Adjacency Matrix**: a matrix where the rows and columns are nodes and the entries are 1 if there is an edge between the nodes and 0 otherwise\n",
    "- **Incidence Matrix**: a matrix where the rows are nodes and the columns are edges and the entries are 1 if the node is incident to the edge and 0 otherwise\n",
    "- **Adjacency List**: a list of lists where each list contains the nodes connected to a node\n",
    "- **Edge List**: a list of tuples where each tuple contains the nodes connected by an edge\n",
    "- **Degree Matrix**: a diagonal matrix where the diagonal entries are the degrees of the nodes\n",
    "- **Laplacian Matrix**: the degree matrix minus the adjacency matrix\n",
    "- **Walk**: a sequence of nodes connected by edges\n",
    "- **Trail**: a walk with no repeated edges\n",
    "- **Path**: a trail with no repeated nodes"
   ]
  },
  {
   "cell_type": "markdown",
   "id": "2cedcaba",
   "metadata": {},
   "source": [
    "# Basic Definitions - Paths\n",
    "- **Cycle**: a path that starts and ends at the same node\n",
    "- **Diameter**: the longest shortest path in a graph\n",
    "- **Shortest Path**: the path between two nodes with the smallest number of edges\n",
    "- **Average Path Length**: the average shortest path between all pairs of nodes\n",
    "- **Connected Component**: a maximal connected subgraph\n",
    "- **Giants Component**: the largest connected component"
   ]
  },
  {
   "cell_type": "markdown",
   "id": "d414a0e5",
   "metadata": {},
   "source": [
    "# Basic Definitions - Graph Search\n",
    "- **Breadth First Search (BFS)**: a search algorithm that explores all the nodes at the present depth before moving on to the next depth\n",
    "- **Depth First Search (DFS)**: a search algorithm that explores as far as possible along each branch before backtracking\n",
    "- **Dijkstra's Algorithm**: an algorithm that finds the shortest path between nodes in a graph"
   ]
  },
  {
   "cell_type": "markdown",
   "id": "9c15a7de",
   "metadata": {
    "title": "[flashcard]"
   },
   "source": [
    "[flashcard]: <>\n",
    "# How does Dijkstra's Algorithm Work?;\"\n",
    "- Dijkstra's algorithm applies to weighted graphs and finds the shortest path between nodes.\n",
    "- Starting at the source node it searches paths that are the shortest distance from the source node.\n",
    "- Therefore the search algorithm will not exhaustively search a given node like BFS, it will jump to the next\n",
    "node that is the shortest distance, even if it's not the current node being searched.\n",
    "\""
   ]
  },
  {
   "cell_type": "markdown",
   "id": "7be06692",
   "metadata": {
    "lines_to_next_cell": 2
   },
   "source": [
    "# Basic Definitions - Neighbors\n",
    "- **Neighbors**: the nodes connected to a node\n",
    "- **Clustering Coefficient**: the fraction of a node's neighbors that are neighbors with each other\n",
    "- **Triad**: a subgraph with three nodes and three edges\n",
    "- **Triangle**: a subgraph with three nodes and three edges\n",
    "- **Triadic Closure**: the tendency for nodes with a common neighbor to be connected"
   ]
  },
  {
   "cell_type": "markdown",
   "id": "f02dc3d0",
   "metadata": {},
   "source": [
    "# Basic Definitions - Centrality\n",
    "- **Centrality**: a measure of the importance of a node in a network\n",
    "- **Average degree**: the average number of edges connected to a node\n",
    "- **Closeness Centrality**: the average shortest path between a node and all other nodes\n",
    "- **Communities**: groups of nodes that are more connected to each other than to other nodes"
   ]
  }
 ],
 "metadata": {
  "jupytext": {
   "cell_metadata_filter": "-all",
   "main_language": "python",
   "notebook_metadata_filter": "-all"
  },
  "language_info": {
   "name": "python"
  }
 },
 "nbformat": 4,
 "nbformat_minor": 5
}
