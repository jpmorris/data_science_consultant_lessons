{
 "cells": [
  {
   "cell_type": "markdown",
   "id": "b13c97cb",
   "metadata": {
    "lines_to_next_cell": 2
   },
   "source": [
    "# Given the following code snippets:"
   ]
  },
  {
   "cell_type": "code",
   "execution_count": null,
   "id": "72a81282",
   "metadata": {},
   "outputs": [],
   "source": [
    "def work_with_file(file_name):\n",
    "    with open(file_name) as fp:\n",
    "        file_contents = fp.read()\n",
    "        do_stuff(risky_stuff)"
   ]
  },
  {
   "cell_type": "markdown",
   "id": "f35d7856",
   "metadata": {},
   "source": [
    "or"
   ]
  },
  {
   "cell_type": "code",
   "execution_count": null,
   "id": "a43f3ecf",
   "metadata": {
    "lines_to_next_cell": 2
   },
   "outputs": [],
   "source": [
    "with open(file_name) as fp:\n",
    "    file_contents = fp.read()\n",
    "\n",
    "\n",
    "def function(file_contents):\n",
    "    do_stuff(file_contents)"
   ]
  },
  {
   "cell_type": "markdown",
   "id": "87f49229",
   "metadata": {},
   "source": [
    "# Questions:\n",
    "1. Which seems better?\n",
    "<details>\n",
    " <summary>Answer</summary>\n",
    " <p> The second one is better because it separates the file reading from the file processing. This makes the code more modular and easier to test. </p>\n",
    "</details>\n",
    "\n",
    "2. Which function should you test?\n",
    "\n",
    "<details>\n",
    " <summary>Answer</summary>\n",
    " You would have to needlessly mock the file in `work_with_file()` when you could just test the contents.\n",
    " This may seem obvious here, but always question unit test-level mocks (databases, etc.) and whehter you need them.\n",
    "</details>"
   ]
  }
 ],
 "metadata": {
  "jupytext": {
   "cell_metadata_filter": "-all",
   "main_language": "python",
   "notebook_metadata_filter": "-all"
  }
 },
 "nbformat": 4,
 "nbformat_minor": 5
}
