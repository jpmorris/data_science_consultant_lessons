{
 "cells": [
  {
   "cell_type": "markdown",
   "id": "d5d039fc",
   "metadata": {
    "lines_to_next_cell": 2
   },
   "source": [
    "# Number systems\n",
    "- **Decimal**: base 10\n",
    "    - 0, 1, 2, 3, 4, 5, 6, 7, 8, 9\n",
    "    - Representation: 10\n",
    "- **Binary**: base 2\n",
    "   - 0, 1\n",
    "   - Representation: 0b1010\n",
    "   - Used in:\n",
    "      - bitwise operations\n",
    "   - In python use the `bin()` function\n",
    "- **Octal**: base 8\n",
    "  - 0, 1, 2, 3, 4, 5, 6, 7\n",
    "  - Representation: 0o12\n",
    "  - Used in:\n",
    "    - Unix file permissions\n",
    "- **Hexadecimal**: base 16\n",
    "  - 0, 1, 2, 3, 4, 5, 6, 7, 8, 9, A, B, C, D, E, F\n",
    "  - Representation: 0x10\n",
    "  - Used in:\n",
    "    - memory addresses\n",
    "    - color representation\n",
    "      - #FF0000 is red\n",
    "    - binary files\n",
    "      - 0x0A is a newline\n",
    "    - character encoding\n",
    "      - 0x41 is 'A'\n",
    "    - URL encoding\n",
    "      - %20 is a space\n",
    "    - Unicode\n",
    "      - 0x03B1 is α"
   ]
  },
  {
   "cell_type": "markdown",
   "id": "c0d943b2",
   "metadata": {
    "lines_to_next_cell": 2
   },
   "source": [
    "Critiques of this code?:"
   ]
  },
  {
   "cell_type": "code",
   "execution_count": null,
   "id": "4e52ca2e",
   "metadata": {},
   "outputs": [],
   "source": [
    "\n",
    "\n",
    "def get_hex(x):\n",
    "    return hex(x)\n",
    "\n",
    "\n",
    "def get_suffix(x):\n",
    "    # '0xf3' -> f3\n",
    "    return get_hex()[2:]\n",
    "\n",
    "\n",
    "def custom_hex(a):\n",
    "    return 'HEX' + get_suffix(a)\n",
    "\n",
    "\n",
    "def main():\n",
    "    custom_hex(243)"
   ]
  },
  {
   "cell_type": "markdown",
   "id": "ec9d5747",
   "metadata": {
    "lines_to_next_cell": 0
   },
   "source": [
    "Here's an alternative:"
   ]
  },
  {
   "cell_type": "code",
   "execution_count": null,
   "id": "15e0f352",
   "metadata": {
    "lines_to_next_cell": 2
   },
   "outputs": [],
   "source": [
    "def main(a):\n",
    "    b = get_hex(a)\n",
    "    c = get_suffix(b)\n",
    "    d = custom_hex(c)"
   ]
  },
  {
   "cell_type": "markdown",
   "id": "2f025c7a",
   "metadata": {},
   "source": [
    "This example demonstrates some interesting points/questions:\n",
    "1. **How much should each function/class do?**\n",
    "  - Common answer: Single Responsibility Principle (SRP) - a class, modeule, or function should  be responsble for\n",
    "only one part of the functionality\n",
    "    - Coined by Robert C. Martin in the early 2000s (signatory of the Agile Manifesto, author of Clean Code)\n",
    "    - A part of the SOLID principles (some out of scope here)\n",
    "      - S - **Single Responsibility Principle** - A class should have only one reason to change\n",
    "      - O - Open/Closed Principle - Objects or entities should be open for extension, but closed for modification\n",
    "      - L - Liskov Substitution Principle - Objects of a superclass should be replaceable with objects of a subclass without breaking the application\n",
    "      - I - Interface Segregation Principle - Many client-specific interfaces are better than one general-purpose interface\n",
    "      - D - Dependency Inversion Principle - One should depend upon abstractions, not concretions\n",
    "  - Other texts say things like \"each function should have no more than 5 lines\"\n",
    "  - However this (and SRP) can cause  conflict:\n",
    "      - SRP says that a function should do one thing\n",
    "      - But the more functions the more mental transitioning when you're reading the code--procedural code without\n",
    "function calls will always be easier to read\n",
    "      - Surely not *every* function must have a single responsiblity? What about `main()` (in python scripts)?\n",
    "        - Moreover, what defines a 'single responsibility'? Is multiplying 3 numbers a single responsibility?\n",
    "      - For this reason there has been some pushback against 'Clean Code'"
   ]
  },
  {
   "cell_type": "markdown",
   "id": "9034f42a",
   "metadata": {},
   "source": [
    "single principle in action\n",
    "``` javascript\n",
    "func saveUser(db *sql.DB, user User) error {\n",
    "\tif user.EmailAddress == \"\" {\n",
    "\t\treturn errors.New(\"user requires an email\")\n",
    "\t}\n",
    "\tif len(user.Password) < 8 {\n",
    "\t\treturn errors.New(\"user password requires at least 8 characters\")\n",
    "\t}\n",
    "\thashedPassword, err = hash(user.Password)\n",
    "\tif err != nil {\n",
    "\t\treturn err\n",
    "\t}\n",
    "\t_, err := db.Exec(`\n",
    "\t\tINSERT INTO users (password, email_address, created)\n",
    "\t\tVALUES ($1, $2, $3);`,\n",
    "\t\thashedPassword, user.EmailAddress, time.Now(),\n",
    "\t)\n",
    "\treturn err\n",
    "}\n",
    "```\n",
    "first 3 if statments should be out of this function"
   ]
  },
  {
   "cell_type": "markdown",
   "id": "bbad27d5",
   "metadata": {},
   "source": [
    "2. However, even if we don't take the Clean Code dictums as sacrosant, they are good principles to consider.\n",
    "  - DRY (Don't Repeat Yourself) flows naturally from these principles\n",
    "    - Though there may be occasions to violate DRY: \"repetition is better than the wrong abstraction\"\n",
    "  - 'Never Nester' - Keep the code as flat as possible without too many nested loops, if statements, etc.\n",
    "     - unhappy paths should go first\n",
    "     - Linux kernel style guide: \"If you need more than 3 levels of indentation, you're screwed anyway, and should fix your program.\""
   ]
  },
  {
   "cell_type": "markdown",
   "id": "6b6aa887",
   "metadata": {},
   "source": [
    "\n",
    "The Zen of Python (PEP 20) states:\n",
    "> Beautiful is better than ugly.<br>\n",
    "> Explicit is better than implicit.<br>\n",
    "> Simple is better than complex.<br>\n",
    "> Complex is better than complicated.<br>\n",
    "> _**Flat is better than nested.**_<br>\n",
    "> Sparse is better than dense.<br>\n",
    "> Readability counts.<br>\n",
    "> Special cases aren't special enough to break the rules.<br>\n",
    "> Although practicality beats purity.<br>\n",
    "> Errors should never pass silently.<br>\n",
    "> Unless explicitly silenced.<br>\n",
    "> In the face of ambiguity, refuse the temptation to guess.<br>\n",
    "> There should be one-- and preferably only one --obvious way to do it.<br>\n",
    "> Although that way may not be obvious at first unless you're Dutch.<br>\n",
    "> Now is better than never.<br>\n",
    "> Although never is often better than *right* now.<br>\n",
    "> If the implementation is hard to explain, it's a bad idea.<br>\n",
    "> If the implementation is easy to explain, it may be a good idea.<br>\n",
    "> Namespaces are one honking great idea -- let's do more of those!"
   ]
  }
 ],
 "metadata": {
  "jupytext": {
   "cell_metadata_filter": "-all",
   "main_language": "python",
   "notebook_metadata_filter": "-all"
  }
 },
 "nbformat": 4,
 "nbformat_minor": 5
}
