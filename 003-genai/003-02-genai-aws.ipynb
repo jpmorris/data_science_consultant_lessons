{
 "cells": [
  {
   "cell_type": "markdown",
   "id": "7fb97bf2",
   "metadata": {},
   "source": [
    "## GenAI Products in AWS\n",
    "- Sagemaker Bedrock - Managed service, higher-level, less-control\n",
    "- Sagemaker Jumpstart - Lower-level, more control, more flexibility "
   ]
  },
  {
   "cell_type": "markdown",
   "id": "8a969067",
   "metadata": {
    "lines_to_next_cell": 0
   },
   "source": [
    "## Big question that we always should ask:\n",
    "### Should we even do this?\n",
    "There is a tendency to take the most avant-garde technology and apply it to \n",
    "an organization. Our data may not be robust enough, the technology not advanced\n",
    "enough, or the organization not ready enough. \n",
    "\n",
    "\n",
    "Fine-tuned (therefor not a general model) LLMs cant currently (if ever) outperform a \n",
    "other "
   ]
  },
  {
   "cell_type": "markdown",
   "id": "28d81f5b",
   "metadata": {},
   "source": [
    "## Some use Cases for in-house GenAI for a federal oversight agency\n",
    "Naive, but desirable prompts:\n",
    "- 'Where is fraud happening in my agency?' - Fraud signal is too weak to \n",
    "- 'What are the common connections between two auditees?' -\n",
    "- 'How many findings of an audit were there for type X' - \n",
    "detect fraud so easily, \n",
    "By ingesting audit data: \n",
    "- Generating summaries\n",
    "- Generating reports from audit data\n",
    "- Generating responses to common inquiries\n",
    "\n",
    " "
   ]
  },
  {
   "cell_type": "code",
   "execution_count": null,
   "id": "102d3e2b",
   "metadata": {},
   "outputs": [],
   "source": [
    "# # Steps to fine-tune a LLM with custom data for an organization\n",
    "# 1. Obtain pre-trained model\n",
    "# 1. Prepare custom data for fine-tuning\n",
    "#   - Fine-tuning data is blocks of text\n",
    "# 1. Test the model"
   ]
  }
 ],
 "metadata": {
  "jupytext": {
   "cell_metadata_filter": "-all",
   "main_language": "python",
   "notebook_metadata_filter": "-all"
  }
 },
 "nbformat": 4,
 "nbformat_minor": 5
}
